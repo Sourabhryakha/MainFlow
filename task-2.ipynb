{
 "cells": [
  {
   "cell_type": "code",
   "execution_count": 4,
   "id": "619e8253-8e09-4441-a463-9a502b875f6c",
   "metadata": {},
   "outputs": [
    {
     "name": "stdout",
     "output_type": "stream",
     "text": [
      "\n",
      "Filtered data where 'ChipRate' > 16 and 'BlowFlow' > 1300:\n",
      "    Observation  Y-Kappa  ChipRate  BF-CMratio  BlowFlow  ChipLevel4   \\\n",
      "1      31-01:00    27.60    16.810      79.022  1328.360      341.327   \n",
      "2      31-02:00    23.19    16.709      79.562  1329.407      239.161   \n",
      "3      31-03:00    23.60    16.478      81.011  1334.877      213.527   \n",
      "13     31-12:00    27.20    16.083      82.839  1332.331      366.855   \n",
      "303    31-01:00    27.60    16.810      79.022  1328.360      341.327   \n",
      "304    31-02:00    23.19    16.709      79.562  1329.407      239.161   \n",
      "305    31-03:00    23.60    16.478      81.011  1334.877      213.527   \n",
      "\n",
      "     T-upperExt-2   T-lowerExt-2    UCZAA  WhiteFlow-4   ...  SteamFlow-4   \\\n",
      "1          351.050         329.067  1.549       537.201  ...        60.012   \n",
      "2          350.022         329.260  1.600       549.611  ...        61.304   \n",
      "3          350.938         331.142  1.604       623.362  ...        68.496   \n",
      "13         350.094         327.439  1.486       527.893  ...        60.271   \n",
      "303        351.050         329.067  1.549       537.201  ...        60.012   \n",
      "304        350.022         329.260  1.600       549.611  ...        61.304   \n",
      "305        350.938         331.142  1.604       623.362  ...        68.496   \n",
      "\n",
      "     Lower-HeatT-3  Upper-HeatT-3   ChipMass-4   WeakLiquorF   BlackFlow-2   \\\n",
      "1          330.823         304.879      163.202       665.975      1297.317   \n",
      "2          329.140         303.383      164.013       677.534      1327.072   \n",
      "3          328.875         302.254      181.487       767.853      1324.461   \n",
      "13         330.023         302.883      160.562       771.158      1299.974   \n",
      "303        330.823         304.879      163.202       665.975      1297.317   \n",
      "304        329.140         303.383      164.013       677.534      1327.072   \n",
      "305        328.875         302.254      181.487       767.853      1324.461   \n",
      "\n",
      "     WeakWashF   SteamHeatF-3   T-Top-Chips-4   SulphidityL-4   \n",
      "1       241.182         46.603         251.406           29.11  \n",
      "2       237.272         51.795         251.335             NaN  \n",
      "3       239.478         54.846         250.312           29.02  \n",
      "13      153.647         47.175         251.767           30.18  \n",
      "303     241.182         46.603         251.406           29.11  \n",
      "304     237.272         51.795         251.335             NaN  \n",
      "305     239.478         54.846         250.312           29.02  \n",
      "\n",
      "[7 rows x 23 columns]\n"
     ]
    }
   ],
   "source": [
    "import pandas as pd\n",
    "\n",
    "# Load the CSV file into a Pandas DataFrame\n",
    "df = pd.read_csv(\"C:\\\\Users\\\\soura\\\\Downloads\\\\01.Data Cleaning and Preprocessing.csv\")\n",
    "# Filter data: For example, rows where 'ChipRate' > 16 and 'BlowFlow' > 1300\n",
    "filtered_data = df[(df['ChipRate'] > 16) & (df['BlowFlow'] > 1300)]\n",
    "print(\"\\nFiltered data where 'ChipRate' > 16 and 'BlowFlow' > 1300:\")\n",
    "print(filtered_data)"
   ]
  },
  {
   "cell_type": "code",
   "execution_count": 7,
   "id": "53a386a2-4e10-4776-878e-5511e8ed2086",
   "metadata": {},
   "outputs": [
    {
     "name": "stdout",
     "output_type": "stream",
     "text": [
      "\n",
      "Data after handling missing values (filled with column mean for numeric columns):\n",
      "  Observation  Y-Kappa  ChipRate  BF-CMratio  BlowFlow  ChipLevel4   \\\n",
      "0    31-00:00    23.10    16.520     121.717  1177.607      169.805   \n",
      "1    31-01:00    27.60    16.810      79.022  1328.360      341.327   \n",
      "2    31-02:00    23.19    16.709      79.562  1329.407      239.161   \n",
      "3    31-03:00    23.60    16.478      81.011  1334.877      213.527   \n",
      "4    31-04:00    22.90    15.618      93.244  1334.168      243.131   \n",
      "\n",
      "   T-upperExt-2   T-lowerExt-2      UCZAA  WhiteFlow-4   ...  SteamFlow-4   \\\n",
      "0        358.282         329.545  1.44300       599.253  ...        67.122   \n",
      "1        351.050         329.067  1.54900       537.201  ...        60.012   \n",
      "2        350.022         329.260  1.60000       549.611  ...        61.304   \n",
      "3        350.938         331.142  1.60400       623.362  ...        68.496   \n",
      "4        351.640         332.709  1.49201       638.672  ...        70.022   \n",
      "\n",
      "   Lower-HeatT-3  Upper-HeatT-3   ChipMass-4   WeakLiquorF   BlackFlow-2   \\\n",
      "0        329.432         303.099      175.964      1127.197      1319.039   \n",
      "1        330.823         304.879      163.202       665.975      1297.317   \n",
      "2        329.140         303.383      164.013       677.534      1327.072   \n",
      "3        328.875         302.254      181.487       767.853      1324.461   \n",
      "4        328.352         300.954      183.929       888.448      1343.424   \n",
      "\n",
      "   WeakWashF   SteamHeatF-3   T-Top-Chips-4   SulphidityL-4   \n",
      "0     257.325         54.612         252.077       30.411671  \n",
      "1     241.182         46.603         251.406       29.110000  \n",
      "2     237.272         51.795         251.335       30.411671  \n",
      "3     239.478         54.846         250.312       29.020000  \n",
      "4     215.372         54.186         249.916       29.010000  \n",
      "\n",
      "[5 rows x 23 columns]\n"
     ]
    }
   ],
   "source": [
    "# Select numeric columns only\n",
    "numeric_cols = df.select_dtypes(include=['number'])\n",
    "\n",
    "# Handle missing values: Fill NaN values with the column mean for numeric columns only\n",
    "df[numeric_cols.columns] = numeric_cols.fillna(numeric_cols.mean())\n",
    "\n",
    "print(\"\\nData after handling missing values (filled with column mean for numeric columns):\")\n",
    "print(df.head())"
   ]
  },
  {
   "cell_type": "code",
   "execution_count": 8,
   "id": "7d231acb-8fda-4165-a5b1-34bf8fba9bc0",
   "metadata": {},
   "outputs": [
    {
     "name": "stdout",
     "output_type": "stream",
     "text": [
      "\n",
      "Summary statistics for numerical columns:\n",
      "          Y-Kappa    ChipRate  BF-CMratio     BlowFlow  ChipLevel4   \\\n",
      "count  324.000000  324.000000  324.000000   324.000000   324.000000   \n",
      "mean    20.635370   14.347937   87.464456  1237.837614   258.164483   \n",
      "std      3.070036    1.487447    7.781774    98.070606    87.851143   \n",
      "min     12.170000    9.983000   68.645000     0.000000     0.000000   \n",
      "25%     18.382500   13.364750   82.156750  1194.525750   213.527000   \n",
      "50%     20.845000   14.347937   87.253500  1254.658500   271.605500   \n",
      "75%     23.032500   15.498250   92.123250  1288.628750   321.285000   \n",
      "max     27.600000   16.958000  121.717000  1351.240000   419.014000   \n",
      "\n",
      "       T-upperExt-2   T-lowerExt-2         UCZAA  WhiteFlow-4   AAWhiteSt-4   \\\n",
      "count     324.000000       324.00000  324.000000     324.00000    324.000000   \n",
      "mean      356.904295       324.02018    1.492010     591.73226      6.140410   \n",
      "std         9.180734         7.59777    0.101741      66.91253      0.059553   \n",
      "min       339.168000       284.63300    1.182000     405.11100      5.890000   \n",
      "25%       350.291750       321.48600    1.436000     541.00225      6.130000   \n",
      "50%       356.901648       325.63850    1.492010     592.71700      6.140410   \n",
      "75%       362.104750       329.14700    1.555250     639.45775      6.140410   \n",
      "max       399.135000       337.01200    1.747000     731.39400      6.340000   \n",
      "\n",
      "       ...  SteamFlow-4   Lower-HeatT-3  Upper-HeatT-3   ChipMass-4   \\\n",
      "count  ...    324.000000     324.000000      324.000000   324.000000   \n",
      "mean   ...     66.668285     325.567820      300.525699   162.222322   \n",
      "std    ...      5.699744       4.595568        4.554318    14.138751   \n",
      "min    ...     48.568000     318.051000      293.312000   113.922000   \n",
      "25%    ...     62.539000     321.386500      296.513750   153.089750   \n",
      "50%    ...     67.408000     325.225500      299.184500   163.601000   \n",
      "75%    ...     71.519500     329.835750      304.228250   172.555000   \n",
      "max    ...     76.147000     333.854000      311.146000   189.268000   \n",
      "\n",
      "       WeakLiquorF   BlackFlow-2   WeakWashF   SteamHeatF-3   T-Top-Chips-4   \\\n",
      "count    324.000000    324.000000  324.000000     324.000000      324.000000   \n",
      "mean     873.828941   1175.917016  263.543068      49.696907      251.240087   \n",
      "std      121.884406    148.870958  163.413391       4.537794        1.281444   \n",
      "min      486.938000    838.948000    0.000000      35.510000      248.359000   \n",
      "25%      792.150250   1047.260500  134.688500      46.411250      250.312000   \n",
      "50%      865.457500   1152.547500  266.983500      50.192500      251.375000   \n",
      "75%      965.152250   1318.991750  405.411500      53.284750      252.319750   \n",
      "max     1226.277000   1395.767000  715.715000      63.332000      254.122000   \n",
      "\n",
      "       SulphidityL-4   \n",
      "count      324.000000  \n",
      "mean        30.411671  \n",
      "std          0.511773  \n",
      "min         29.010000  \n",
      "25%         30.340000  \n",
      "50%         30.411671  \n",
      "75%         30.411671  \n",
      "max         32.840000  \n",
      "\n",
      "[8 rows x 22 columns]\n"
     ]
    }
   ],
   "source": [
    "# Calculate summary statistics for numerical columns\n",
    "summary_stats = df.describe()\n",
    "print(\"\\nSummary statistics for numerical columns:\")\n",
    "print(summary_stats)"
   ]
  },
  {
   "cell_type": "code",
   "execution_count": 9,
   "id": "893c5b0a-af3a-471e-abd3-8ed9680019b6",
   "metadata": {},
   "outputs": [
    {
     "name": "stdout",
     "output_type": "stream",
     "text": [
      "\n",
      "Mean ChipRate: 14.347937304075234\n"
     ]
    }
   ],
   "source": [
    "# Additional operation: Calculate the mean of 'ChipRate'\n",
    "mean_chiprate = df['ChipRate'].mean()\n",
    "print(f\"\\nMean ChipRate: {mean_chiprate}\")"
   ]
  }
 ],
 "metadata": {
  "kernelspec": {
   "display_name": "Python 3 (ipykernel)",
   "language": "python",
   "name": "python3"
  },
  "language_info": {
   "codemirror_mode": {
    "name": "ipython",
    "version": 3
   },
   "file_extension": ".py",
   "mimetype": "text/x-python",
   "name": "python",
   "nbconvert_exporter": "python",
   "pygments_lexer": "ipython3",
   "version": "3.12.7"
  }
 },
 "nbformat": 4,
 "nbformat_minor": 5
}
